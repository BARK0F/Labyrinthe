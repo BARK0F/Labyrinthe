{
 "cells": [
  {
   "cell_type": "markdown",
   "id": "43aae59d",
   "metadata": {},
   "source": [
    "# Implémentation"
   ]
  },
  {
   "cell_type": "code",
   "execution_count": 5,
   "id": "712046a7",
   "metadata": {},
   "outputs": [],
   "source": [
    "from random import *"
   ]
  },
  {
   "cell_type": "code",
   "execution_count": 20,
   "id": "ebb5837c",
   "metadata": {},
   "outputs": [],
   "source": [
    "class Maze:\n",
    "    \"\"\"\n",
    "    Classe Labyrinthe\n",
    "    Représentation sous forme de graphe non-orienté dont chaque sommet est une cellule (un tuple (l,c))\n",
    "    et dont la structure est représentée par un dictionnaire\n",
    "      - clés : sommets\n",
    "      - valeurs : ensemble des sommets voisins accessibles\n",
    "    \"\"\"\n",
    "    def __init__(self, height, width, empty=False):\n",
    "        \"\"\"\n",
    "        Constructeur d'un labyrinthe de height cellules de haut et de width cellules de large \n",
    "        Les voisinages sont initialisés à des ensembles vides\n",
    "        Remarque : dans le labyrinthe créé, chaque cellule est complètement emmurée\n",
    "        \"\"\"\n",
    "        self.height    = height\n",
    "        self.width     = width\n",
    "        self.neighbors = {(i,j): set() for i in range(height) for j in range (width)}\n",
    "        \n",
    "        if empty == True :\n",
    "            self.fill()\n",
    "    \n",
    "    def info(self):\n",
    "        \"\"\"\n",
    "        Affichage des attributs d'un objet 'Maze' (fonction utile pour deboguer)\n",
    "        Retour:\n",
    "            chaîne (string): description textuelle des attributs de l'objet\n",
    "        \"\"\"\n",
    "        txt = f\"{self.height} x {self.width}\\n\"\n",
    "        txt += str(self.neighbors)\n",
    "        return txt\n",
    "\n",
    "    def __str__(self):\n",
    "        \"\"\"\n",
    "        Représentation textuelle d'un objet Maze (en utilisant des caractères ascii)\n",
    "        Retour:\n",
    "             chaîne (str) : chaîne de caractères représentant le labyrinthe\n",
    "        \"\"\"\n",
    "        txt = \"\"\n",
    "        # Première ligne\n",
    "        txt += \"┏\"\n",
    "        for j in range(self.width-1):\n",
    "            txt += \"━━━┳\"\n",
    "        txt += \"━━━┓\\n\"\n",
    "        txt += \"┃\"\n",
    "        for j in range(self.width-1):\n",
    "            txt += \"   ┃\" if (0,j+1) not in self.neighbors[(0,j)] else \"    \"\n",
    "        txt += \"   ┃\\n\"\n",
    "        # Lignes normales\n",
    "        for i in range(self.height-1):\n",
    "            txt += \"┣\"\n",
    "            for j in range(self.width-1):\n",
    "                txt += \"━━━╋\" if (i+1,j) not in self.neighbors[(i,j)] else \"   ╋\"\n",
    "            txt += \"━━━┫\\n\" if (i+1,self.width-1) not in self.neighbors[(i,self.width-1)] else \"   ┫\\n\"\n",
    "            txt += \"┃\"\n",
    "            for j in range(self.width):\n",
    "                txt += \"   ┃\" if (i+1,j+1) not in self.neighbors[(i+1,j)] else \"    \"\n",
    "            txt += \"\\n\"\n",
    "        # Bas du tableau\n",
    "        txt += \"┗\"\n",
    "        for i in range(self.width-1):\n",
    "            txt += \"━━━┻\"\n",
    "        txt += \"━━━┛\\n\"\n",
    "\n",
    "        return txt\n",
    "    \n",
    "    def add_wall(self, c1, c2):\n",
    "        \"\"\"\n",
    "        Méthode d'instance add_wall\n",
    "        ajoute un mur entre deux cellules passées en paramètre.\n",
    "        \"\"\"\n",
    "        # Facultatif : on teste si les sommets sont bien dans le labyrinthe\n",
    "        assert 0 <= c1[0] < self.height and \\\n",
    "            0 <= c1[1] < self.width and \\\n",
    "            0 <= c2[0] < self.height and \\\n",
    "            0 <= c2[1] < self.width, \\\n",
    "            f\"Erreur lors de l'ajout d'un mur entre {c1} et {c2} : les coordonnées de sont pas compatibles avec les dimensions du labyrinthe\"\n",
    "        # Ajout du mur\n",
    "        if c2 in self.neighbors[c1]:      # Si c2 est dans les voisines de c1\n",
    "            self.neighbors[c1].remove(c2) # on le retire\n",
    "        if c1 in self.neighbors[c2]:      # Si c3 est dans les voisines de c2\n",
    "            self.neighbors[c2].remove(c1) # on le retire\n",
    "            \n",
    "    def remove_wall(self, c1, c2):\n",
    "        \"\"\"\n",
    "        Méthode d'instance remove_wall\n",
    "        retire un mur entre deux cellules passées en paramètre.\n",
    "        \"\"\"\n",
    "        # Facultatif : on teste si les sommets sont bien dans le labyrinthe\n",
    "        assert 0 <= c1[0] < self.height and \\\n",
    "            0 <= c1[1] < self.width and \\\n",
    "            0 <= c2[0] < self.height and \\\n",
    "            0 <= c2[1] < self.width, \\\n",
    "            f\"Erreur lors de l'ajout d'un mur entre {c1} et {c2} : les coordonnées de sont pas compatibles avec les dimensions du labyrinthe\"\n",
    "        # Suppression du mur\n",
    "        if c2 not in self.neighbors[c1]: # Si c2 n'est pas dans les voisines de c1\n",
    "            self.neighbors[c1].add(c2)   # on l'ajoute\n",
    "        if c1 not in self.neighbors[c2]: # Si c1 n'est pas dans les voisines de c2\n",
    "            self.neighbors[c2].add(c1)   # on l'ajoute\n",
    "            \n",
    "    def get_walls(self):\n",
    "        \"\"\"\n",
    "        Méthode d'instance get_walls\n",
    "        retourne une liste de liste contenant toute les cellules entre lesquelle il y a un mur.\n",
    "        \"\"\"\n",
    "        wall = []\n",
    "        visite = []\n",
    "        for x in range(self.width):\n",
    "            for y in range(self.height):\n",
    "                if (x+1,y) not in self.neighbors[x,y] and (x+1<self.height):\n",
    "                    wall = [(x,y),(x+1,y)]\n",
    "                    if wall not in visite:\n",
    "                        visite.append(wall)\n",
    "                if (x,y+1) not in self.neighbors[x,y] and (y+1<self.height):\n",
    "                    wall = [(x,y),(x,y+1)]\n",
    "                    if wall not in visite:\n",
    "                        visite.append(wall)\n",
    "        return visite\n",
    "    \n",
    "    \n",
    "    \n",
    "    def fill(self):\n",
    "        \"\"\"\n",
    "        Méthode d'instance fill\n",
    "        permet de modifier un labyrinthe pour le remplir de mur\n",
    "        \"\"\"\n",
    "        self.neighbors = {(i,j): set() for i in range(self.height) for j in range (self.width)}\n",
    "\n",
    "    def empty(self):\n",
    "        \"\"\"\n",
    "        Méthode d'instance empty\n",
    "        permet de modifier un labyrinthe pour le vider de tout ses murs\n",
    "        \"\"\"\n",
    "        self.fill()\n",
    "        for i in range(self.height-1):\n",
    "            for j in range(self.width):\n",
    "                self.remove_wall((i,j),(i+1,j))\n",
    "        for i in range(self.height):\n",
    "            for j in range(self.width-1):\n",
    "                self.remove_wall((i,j),(i,j+1))\n",
    "\n",
    "\n",
    "    def get_contiguous_cells(self,c):\n",
    "        \"\"\"\n",
    "        accesseur aux cellules contigues à c\n",
    "        \"\"\"\n",
    "        lst =[(c[0]-1,c[1]),(c[0],c[1]+1),(c[0]+1,c[1]),(c[0],c[1]-1)]\n",
    "        for x in lst:\n",
    "            if x[0]<0 or x[1]<0 or x[0]>self.height-1 or x[1]>self.width-1:\n",
    "                lst.remove(x)\n",
    "        return lst\n",
    "\n",
    "    def get_reachable_cells(self,c):\n",
    "        \"\"\"\n",
    "        accesseur aux cellules accessibles depuis c\n",
    "        \"\"\"\n",
    "        return self.neighbors[c]\n",
    "    \n",
    "    def get_cells(self):\n",
    "        \"\"\"\n",
    "        Retourne une liste de couple, des coordonnée de chacun des cellules du labyrinthe\n",
    "        Ne prend rien en paramètre.\n",
    "        \"\"\"\n",
    "        res = []\n",
    "        for x in range(self.height):\n",
    "            for y in range(self.width):\n",
    "                res.append((x,y))\n",
    "        return res\n",
    "    \n",
    "    @classmethod\n",
    "    def gen_btree(cls,h,w):\n",
    "        \"\"\"\n",
    "        Génère un labyrinthe plein, puis supprimer pour chacune des cellules, de manière aléatoire le mur EST ou SUD\n",
    "        Prend en paramètre une hauteur {h} et une longueur {w} comme dimension pour le labyrinthe. \n",
    "        \"\"\"\n",
    "        lab = cls(h,w)\n",
    "        for cel in lab.get_cells(): # get_cells est une liste comportant toutes les coordonnées de toutes les cellules du labyrinthe\n",
    "            cE = (cel[0],cel[1]+1) # Attribut les coordonnée de la cellule voisine par le mur EST a une variable\n",
    "            cS = (cel[0]+1,cel[1]) # Attribut les coordonnée de la cellule voisine par le mur SUD a une variable\n",
    "            mE = [cel,(cel[0],cel[1]+1)] # Attribut les coordonnées du mur EST de la cellule a une variable\n",
    "            mS = [cel,(cel[0]+1,cel[1])] # Attribut les coordonnées du mur SUD de la cellule a une variable\n",
    "            walls = lab.get_walls() \n",
    "            if mE in walls or mS in walls:\n",
    "                if mE in walls and mS in walls:\n",
    "                    lab.remove_wall(cel,[cE,cS][randint(0,1)])\n",
    "                elif mE in walls:\n",
    "                    lab.remove_wall(cel,cE)\n",
    "                elif mS in walls:\n",
    "                    lab.remove_wall(cel,cS)\n",
    "        return lab\n",
    "    \n",
    "    def gen_sidewinder(h,w):\n",
    "        \"\"\"\n",
    "        Génère un labyrinthe plein, puis pour chacune des cellules tire aléatoirement si on casse le mur EST ou SUD,\n",
    "        selon la capacité de chacune des cellule, a pouvoir avoir un voisin qui correspond a des coordonnée se trouvant \n",
    "        dans le labyrionthe\n",
    "        \"\"\"\n",
    "        lab = Maze(h, w)\n",
    "        for i in range(h-1):\n",
    "            seq = []\n",
    "            for j in range(w):\n",
    "                cell = (i,j)\n",
    "                seq.append(cell)\n",
    "                vE = None\n",
    "                if j < w-1: # Vérifie si la cellule peut avoir un voisin avec son mur EST\n",
    "                    vE = (i,j+1)\n",
    "                vS = None\n",
    "                if i < h-1: # Vérifie si la cellule peut avoir un voisin avec son mur SUD\n",
    "                    vS = (i+1,j)\n",
    "                ran = randint(0,1) # 0 = Pile | 1 = Face\n",
    "                if ran == 0 and vE != None:\n",
    "                    lab.remove_wall(cell,vE) \n",
    "                elif ran == 1 and vS != None:\n",
    "                    ch = choice(seq) # Choisi aléatoirement une cellule dans la liste seq\n",
    "                    x,y = ch\n",
    "                    lab.remove_wall(ch,(x+1,y)) \n",
    "                    seq = [] \n",
    "            seq.append(cell)\n",
    "            ch = choice(seq)  # Choisi aléatoirement une cellule dans la liste seq\n",
    "            x,y = ch\n",
    "            lab.remove_wall(ch,(x+1,y)) \n",
    "        for i in range(w-1):\n",
    "            lab.remove_wall((h-1,i),(h-1,i+1))\n",
    "        return lab\n",
    "    \n",
    "    @classmethod\n",
    "    def gen_fusion(cls,h,w):\n",
    "        \"\"\"\n",
    "        Génère un labyrinthe plein. On attribut un label de 1 a n dans un dictionnaire. On récupère la liste de tous les murs\n",
    "        qu'on mélange. Pour chaque mur de la liste extraite on regarde si le label des deux cellule de chaque coté du mur sont differentes.\n",
    "        Si c'est le cas on casse le mur, on attribut le label d'une des deux cellule a l'autre ainsi qu'a toute les cellule qui porte le\n",
    "        meme label que la cellule qui vient de recevoir le label de l'autre.\n",
    "        \"\"\"\n",
    "        lab = Maze(h,w,empty=False)\n",
    "        label = {}\n",
    "        n=0\n",
    "        for x in lab.neighbors:\n",
    "            n+=1\n",
    "            label[x]=n  \n",
    "        wall = lab.get_walls()\n",
    "        shuffle(wall) \n",
    "        \n",
    "        for z in range(len(wall)):\n",
    "            if label[wall[z][0]]!=label[wall[z][1]]:\n",
    "                lab.remove_wall(wall[z][0],wall[z][1])\n",
    "                cell = label[wall[z][1]]\n",
    "                for y in label:\n",
    "                    if label[y] == cell:\n",
    "                        label[y] = label[wall[z][0]]\n",
    "        \n",
    "        return lab\n",
    "    \n",
    "    @classmethod\n",
    "    def gen_exploration(cls,h,w):\n",
    "        lab = cls(h,w,empty=False)\n",
    "        visite = {}\n",
    "        for x in lab.neighbors:\n",
    "            visite[x]=\"o\"\n",
    "        init = (randint(0,h-1),randint(0,w-1))\n",
    "        visite[init] = \"v\"\n",
    "        pile=[init]\n",
    "        \n",
    "        while pile:\n",
    "            cell = pile.pop()\n",
    "            ce = lab.get_contiguous_cells(cell)\n",
    "            shuffle(ce)\n",
    "            for vois in ce:\n",
    "                if visite[vois]==\"o\":\n",
    "                    lab.remove_wall(cell,vois)\n",
    "                    visite[vois]=\"v\"\n",
    "                    pile.append(vois)\n",
    "        return lab\n",
    "                    \n",
    "    def gen_wilson(h,w):\n",
    "        lab = Maze(h,w)\n",
    "        cell = lab.get_cells()\n",
    "        dpt = choice(cell)\n",
    "        cell.remove(dpt)\n",
    "        visite = [dpt]\n",
    "        while len(cell)>0:\n",
    "            ce = choice(cell)\n",
    "            snk = [ce]\n",
    "            while ce in cell:\n",
    "                nxt = choice(lab.contiguous_cells(ce))\n",
    "                if nxt in snk:\n",
    "                    idx = snk.index(nxt)\n",
    "                    snk = snk[:idx+1]\n",
    "                else:\n",
    "                    snk.append(nxt)\n",
    "                    visite.append(nxt)\n",
    "                    \"\"\"Pas finis\"\"\"\n",
    "        return lab\n",
    "                        \n",
    "    \"\"\"Partie 7\"\"\"    \n",
    "    def distance_geo(self,c1,c2):\n",
    "        \"\"\"\n",
    "        Calcule la distance géodésique entre la cellule c1 et c2\n",
    "        \"\"\"\n",
    "        parcour = self.solve_dfs(c1,c2)\n",
    "        return len(parcour)-1\n",
    "        \n",
    "    def distance_man(c1,c2):\n",
    "        \"\"\"\n",
    "        Calcule la distance de Manhattan entre la cellule c1 et c2 c'est-a-dire la diastance qui les séparent si le labyrinthe était vide de tout ses murs.\n",
    "        \"\"\"\n",
    "        return abs(c1[0]-c2[0])+abs(c1[1]-c2[1])\n",
    "                \n",
    "        \n",
    "        \n",
    "            "
   ]
  },
  {
   "cell_type": "code",
   "execution_count": 3,
   "id": "a32eb0b1",
   "metadata": {},
   "outputs": [
    {
     "name": "stdout",
     "output_type": "stream",
     "text": [
      "4 x 4\n",
      "{(0, 0): set(), (0, 1): set(), (0, 2): set(), (0, 3): set(), (1, 0): set(), (1, 1): set(), (1, 2): set(), (1, 3): set(), (2, 0): set(), (2, 1): set(), (2, 2): set(), (2, 3): set(), (3, 0): set(), (3, 1): set(), (3, 2): set(), (3, 3): set()}\n"
     ]
    }
   ],
   "source": [
    "laby = Maze(4, 4, True)\n",
    "print(laby.info())"
   ]
  },
  {
   "cell_type": "code",
   "execution_count": 26,
   "id": "8f40c6bb",
   "metadata": {},
   "outputs": [
    {
     "name": "stdout",
     "output_type": "stream",
     "text": [
      "┏━━━┳━━━┳━━━┳━━━┓\n",
      "┃   ┃   ┃   ┃   ┃\n",
      "┣━━━╋━━━╋━━━╋━━━┫\n",
      "┃   ┃   ┃   ┃   ┃\n",
      "┣━━━╋━━━╋━━━╋━━━┫\n",
      "┃   ┃   ┃   ┃   ┃\n",
      "┣━━━╋━━━╋━━━╋━━━┫\n",
      "┃   ┃   ┃   ┃   ┃\n",
      "┗━━━┻━━━┻━━━┻━━━┛\n",
      "\n"
     ]
    }
   ],
   "source": [
    "print(laby)"
   ]
  },
  {
   "cell_type": "code",
   "execution_count": 27,
   "id": "1e232fbc",
   "metadata": {},
   "outputs": [
    {
     "name": "stdout",
     "output_type": "stream",
     "text": [
      "┏━━━┳━━━┳━━━┳━━━┓\n",
      "┃   ┃           ┃\n",
      "┣   ╋   ╋━━━╋   ┫\n",
      "┃   ┃       ┃   ┃\n",
      "┣   ╋━━━╋   ╋   ┫\n",
      "┃           ┃   ┃\n",
      "┣   ╋━━━╋━━━╋   ┫\n",
      "┃           ┃   ┃\n",
      "┗━━━┻━━━┻━━━┻━━━┛\n",
      "\n"
     ]
    }
   ],
   "source": [
    "laby.neighbors = {\n",
    "    (0, 0): {(1, 0)},\n",
    "    (0, 1): {(0, 2), (1, 1)},\n",
    "    (0, 2): {(0, 1), (0, 3)},\n",
    "    (0, 3): {(0, 2), (1, 3)},\n",
    "    (1, 0): {(2, 0), (0, 0)},\n",
    "    (1, 1): {(0, 1), (1, 2)},\n",
    "    (1, 2): {(1, 1), (2, 2)},\n",
    "    (1, 3): {(2, 3), (0, 3)},\n",
    "    (2, 0): {(1, 0), (2, 1), (3, 0)},\n",
    "    (2, 1): {(2, 0), (2, 2)},\n",
    "    (2, 2): {(1, 2), (2, 1)},\n",
    "    (2, 3): {(3, 3), (1, 3)},\n",
    "    (3, 0): {(3, 1), (2, 0)},\n",
    "    (3, 1): {(3, 2), (3, 0)},\n",
    "    (3, 2): {(3, 1)},\n",
    "    (3, 3): {(2, 3)}\n",
    "}\n",
    "\n",
    "print(laby)"
   ]
  },
  {
   "cell_type": "code",
   "execution_count": 28,
   "id": "6a7b3690",
   "metadata": {},
   "outputs": [
    {
     "name": "stdout",
     "output_type": "stream",
     "text": [
      "┏━━━┳━━━┳━━━┳━━━┓\n",
      "┃   ┃           ┃\n",
      "┣   ╋   ╋━━━╋   ┫\n",
      "┃   ┃       ┃   ┃\n",
      "┣   ╋━━━╋   ╋━━━┫\n",
      "┃           ┃   ┃\n",
      "┣   ╋━━━╋━━━╋   ┫\n",
      "┃           ┃   ┃\n",
      "┗━━━┻━━━┻━━━┻━━━┛\n",
      "\n"
     ]
    }
   ],
   "source": [
    "laby.neighbors[(1,3)].remove((2,3))\n",
    "laby.neighbors[(2,3)].remove((1,3))\n",
    "print(laby)"
   ]
  },
  {
   "cell_type": "code",
   "execution_count": 29,
   "id": "6f580aaf",
   "metadata": {},
   "outputs": [
    {
     "name": "stdout",
     "output_type": "stream",
     "text": [
      "┏━━━┳━━━┳━━━┳━━━┓\n",
      "┃   ┃           ┃\n",
      "┣   ╋   ╋━━━╋   ┫\n",
      "┃   ┃       ┃   ┃\n",
      "┣   ╋━━━╋   ╋   ┫\n",
      "┃           ┃   ┃\n",
      "┣   ╋━━━╋━━━╋   ┫\n",
      "┃           ┃   ┃\n",
      "┗━━━┻━━━┻━━━┻━━━┛\n",
      "\n"
     ]
    }
   ],
   "source": [
    "laby.neighbors[(1, 3)].add((2, 3))\n",
    "laby.neighbors[(2, 3)].add((1, 3))\n",
    "print(laby)"
   ]
  },
  {
   "cell_type": "code",
   "execution_count": 30,
   "id": "c50b1a04",
   "metadata": {},
   "outputs": [
    {
     "name": "stdout",
     "output_type": "stream",
     "text": [
      "┏━━━┳━━━┳━━━┳━━━┓\n",
      "┃   ┃           ┃\n",
      "┣   ╋   ╋━━━╋   ┫\n",
      "┃   ┃       ┃   ┃\n",
      "┣   ╋━━━╋   ╋━━━┫\n",
      "┃           ┃   ┃\n",
      "┣   ╋━━━╋━━━╋   ┫\n",
      "┃           ┃   ┃\n",
      "┗━━━┻━━━┻━━━┻━━━┛\n",
      "\n",
      "4 x 4\n",
      "{(0, 0): {(1, 0)}, (0, 1): {(1, 1), (0, 2)}, (0, 2): {(0, 1), (0, 3)}, (0, 3): {(0, 2), (1, 3)}, (1, 0): {(2, 0), (0, 0)}, (1, 1): {(0, 1), (1, 2)}, (1, 2): {(1, 1), (2, 2)}, (1, 3): {(0, 3)}, (2, 0): {(1, 0), (2, 1), (3, 0)}, (2, 1): {(2, 0), (2, 2)}, (2, 2): {(1, 2), (2, 1)}, (2, 3): {(3, 3), (1, 3)}, (3, 0): {(3, 1), (2, 0)}, (3, 1): {(3, 2), (3, 0)}, (3, 2): {(3, 1)}, (3, 3): {(2, 3)}}\n"
     ]
    }
   ],
   "source": [
    "laby.neighbors[(1, 3)].remove((2, 3))\n",
    "print(laby)\n",
    "print(laby.info())"
   ]
  },
  {
   "cell_type": "code",
   "execution_count": 31,
   "id": "eda0a729",
   "metadata": {},
   "outputs": [],
   "source": [
    "laby.neighbors[(2, 3)].remove((1,3))"
   ]
  },
  {
   "cell_type": "code",
   "execution_count": 32,
   "id": "b0c7047b",
   "metadata": {},
   "outputs": [
    {
     "name": "stdout",
     "output_type": "stream",
     "text": [
      "┏━━━┳━━━┳━━━┳━━━┓\n",
      "┃   ┃   ┃   ┃   ┃\n",
      "┣━━━╋━━━╋━━━╋━━━┫\n",
      "┃   ┃   ┃   ┃   ┃\n",
      "┣━━━╋━━━╋━━━╋━━━┫\n",
      "┃   ┃   ┃   ┃   ┃\n",
      "┣━━━╋━━━╋━━━╋━━━┫\n",
      "┃   ┃   ┃   ┃   ┃\n",
      "┗━━━┻━━━┻━━━┻━━━┛\n",
      "\n"
     ]
    }
   ],
   "source": [
    "laby = Maze(4, 4, empty = True)\n",
    "print(laby)"
   ]
  },
  {
   "cell_type": "code",
   "execution_count": 33,
   "id": "f06c90b1",
   "metadata": {},
   "outputs": [
    {
     "name": "stdout",
     "output_type": "stream",
     "text": [
      "┏━━━┳━━━┳━━━┳━━━┓\n",
      "┃   ┃   ┃   ┃   ┃\n",
      "┣━━━╋━━━╋━━━╋━━━┫\n",
      "┃   ┃   ┃   ┃   ┃\n",
      "┣━━━╋━━━╋━━━╋━━━┫\n",
      "┃   ┃   ┃   ┃   ┃\n",
      "┣━━━╋━━━╋━━━╋━━━┫\n",
      "┃   ┃   ┃   ┃   ┃\n",
      "┗━━━┻━━━┻━━━┻━━━┛\n",
      "\n"
     ]
    }
   ],
   "source": [
    "laby = Maze(4, 4, empty = False)\n",
    "print(laby)"
   ]
  },
  {
   "cell_type": "markdown",
   "id": "472ecf43",
   "metadata": {},
   "source": [
    "# Manipulation de labyrinthes"
   ]
  },
  {
   "cell_type": "code",
   "execution_count": 34,
   "id": "63c5d94d",
   "metadata": {},
   "outputs": [
    {
     "name": "stdout",
     "output_type": "stream",
     "text": [
      "┏━━━┳━━━┳━━━┳━━━┳━━━┓\n",
      "┃   ┃   ┃   ┃   ┃   ┃\n",
      "┣━━━╋━━━╋━━━╋━━━╋━━━┫\n",
      "┃   ┃   ┃   ┃   ┃   ┃\n",
      "┣━━━╋━━━╋━━━╋━━━╋━━━┫\n",
      "┃   ┃   ┃   ┃   ┃   ┃\n",
      "┣━━━╋━━━╋━━━╋━━━╋━━━┫\n",
      "┃   ┃   ┃   ┃   ┃   ┃\n",
      "┣━━━╋━━━╋━━━╋━━━╋━━━┫\n",
      "┃   ┃   ┃   ┃   ┃   ┃\n",
      "┗━━━┻━━━┻━━━┻━━━┻━━━┛\n",
      "\n"
     ]
    }
   ],
   "source": [
    "laby = Maze(5, 5, empty = True)\n",
    "print(laby)"
   ]
  },
  {
   "cell_type": "code",
   "execution_count": 35,
   "id": "7ca6e72a",
   "metadata": {},
   "outputs": [
    {
     "name": "stdout",
     "output_type": "stream",
     "text": [
      "┏━━━┳━━━┳━━━┳━━━┳━━━┓\n",
      "┃   ┃   ┃   ┃   ┃   ┃\n",
      "┣━━━╋━━━╋━━━╋━━━╋━━━┫\n",
      "┃   ┃   ┃   ┃   ┃   ┃\n",
      "┣━━━╋━━━╋━━━╋━━━╋━━━┫\n",
      "┃   ┃   ┃   ┃   ┃   ┃\n",
      "┣━━━╋━━━╋━━━╋━━━╋━━━┫\n",
      "┃   ┃   ┃   ┃   ┃   ┃\n",
      "┣━━━╋━━━╋━━━╋━━━╋━━━┫\n",
      "┃   ┃   ┃   ┃   ┃   ┃\n",
      "┗━━━┻━━━┻━━━┻━━━┻━━━┛\n",
      "\n"
     ]
    }
   ],
   "source": [
    "laby.add_wall((0,0), (0,1))\n",
    "print(laby)"
   ]
  },
  {
   "cell_type": "code",
   "execution_count": 36,
   "id": "0929ee11",
   "metadata": {},
   "outputs": [
    {
     "name": "stdout",
     "output_type": "stream",
     "text": [
      "┏━━━┳━━━┳━━━┳━━━┳━━━┓\n",
      "┃   ┃   ┃   ┃   ┃   ┃\n",
      "┣━━━╋━━━╋━━━╋━━━╋━━━┫\n",
      "┃   ┃   ┃   ┃   ┃   ┃\n",
      "┣━━━╋━━━╋━━━╋━━━╋━━━┫\n",
      "┃   ┃   ┃   ┃   ┃   ┃\n",
      "┣━━━╋━━━╋━━━╋━━━╋━━━┫\n",
      "┃   ┃   ┃   ┃   ┃   ┃\n",
      "┣━━━╋━━━╋━━━╋━━━╋━━━┫\n",
      "┃   ┃   ┃   ┃   ┃   ┃\n",
      "┗━━━┻━━━┻━━━┻━━━┻━━━┛\n",
      "\n"
     ]
    }
   ],
   "source": [
    "laby = Maze(5, 5, empty = True)\n",
    "laby.fill()\n",
    "print(laby)"
   ]
  },
  {
   "cell_type": "code",
   "execution_count": 37,
   "id": "43a18d67",
   "metadata": {},
   "outputs": [
    {
     "name": "stdout",
     "output_type": "stream",
     "text": [
      "┏━━━┳━━━┳━━━┳━━━┳━━━┓\n",
      "┃       ┃   ┃   ┃   ┃\n",
      "┣━━━╋━━━╋━━━╋━━━╋━━━┫\n",
      "┃   ┃   ┃   ┃   ┃   ┃\n",
      "┣━━━╋━━━╋━━━╋━━━╋━━━┫\n",
      "┃   ┃   ┃   ┃   ┃   ┃\n",
      "┣━━━╋━━━╋━━━╋━━━╋━━━┫\n",
      "┃   ┃   ┃   ┃   ┃   ┃\n",
      "┣━━━╋━━━╋━━━╋━━━╋━━━┫\n",
      "┃   ┃   ┃   ┃   ┃   ┃\n",
      "┗━━━┻━━━┻━━━┻━━━┻━━━┛\n",
      "\n"
     ]
    }
   ],
   "source": [
    "laby.remove_wall((0, 0), (0, 1))\n",
    "print(laby)"
   ]
  },
  {
   "cell_type": "code",
   "execution_count": 38,
   "id": "009dcd8b",
   "metadata": {},
   "outputs": [
    {
     "name": "stdout",
     "output_type": "stream",
     "text": [
      "┏━━━┳━━━┳━━━┳━━━┳━━━┓\n",
      "┃   ┃               ┃\n",
      "┣   ╋━━━╋   ╋   ╋   ┫\n",
      "┃                   ┃\n",
      "┣   ╋   ╋   ╋   ╋   ┫\n",
      "┃                   ┃\n",
      "┣   ╋   ╋   ╋   ╋   ┫\n",
      "┃                   ┃\n",
      "┣   ╋   ╋   ╋   ╋   ┫\n",
      "┃                   ┃\n",
      "┗━━━┻━━━┻━━━┻━━━┻━━━┛\n",
      "\n"
     ]
    }
   ],
   "source": [
    "laby.empty()\n",
    "laby.add_wall((0, 0), (0, 1))\n",
    "laby.add_wall((0, 1), (1, 1))\n",
    "print(laby)"
   ]
  },
  {
   "cell_type": "code",
   "execution_count": 39,
   "id": "e9bc7f74",
   "metadata": {},
   "outputs": [
    {
     "name": "stdout",
     "output_type": "stream",
     "text": [
      "[[(0, 0), (0, 1)], [(0, 1), (1, 1)]]\n"
     ]
    }
   ],
   "source": [
    "print(laby.get_walls())"
   ]
  },
  {
   "cell_type": "code",
   "execution_count": 40,
   "id": "76047a51",
   "metadata": {},
   "outputs": [
    {
     "name": "stdout",
     "output_type": "stream",
     "text": [
      "[(0, 0), (1, 1), (0, 2)]\n"
     ]
    }
   ],
   "source": [
    "print(laby.get_contiguous_cells((0,1)))"
   ]
  },
  {
   "cell_type": "code",
   "execution_count": 41,
   "id": "6310b229",
   "metadata": {},
   "outputs": [
    {
     "name": "stdout",
     "output_type": "stream",
     "text": [
      "{(0, 2)}\n"
     ]
    }
   ],
   "source": [
    "print(laby.get_reachable_cells((0,1)))"
   ]
  },
  {
   "cell_type": "markdown",
   "id": "1b4214f6",
   "metadata": {},
   "source": [
    "# 5. Génération"
   ]
  },
  {
   "cell_type": "markdown",
   "id": "eddcc585",
   "metadata": {},
   "source": [
    "## 5.1 Arbre binaire"
   ]
  },
  {
   "cell_type": "code",
   "execution_count": 5,
   "id": "76a846a6",
   "metadata": {},
   "outputs": [
    {
     "name": "stdout",
     "output_type": "stream",
     "text": [
      "[(0, 0), (0, 1), (0, 2), (0, 3), (1, 0), (1, 1), (1, 2), (1, 3), (2, 0), (2, 1), (2, 2), (2, 3), (3, 0), (3, 1), (3, 2), (3, 3)]\n"
     ]
    }
   ],
   "source": [
    "laby = Maze(4,4)\n",
    "print(laby.get_cells())"
   ]
  },
  {
   "cell_type": "code",
   "execution_count": 14,
   "id": "9c95091e",
   "metadata": {},
   "outputs": [
    {
     "name": "stdout",
     "output_type": "stream",
     "text": [
      "┏━━━┳━━━┳━━━┳━━━┓\n",
      "┃           ┃   ┃\n",
      "┣━━━╋━━━╋   ╋   ┫\n",
      "┃       ┃   ┃   ┃\n",
      "┣━━━╋   ╋   ╋   ┫\n",
      "┃       ┃       ┃\n",
      "┣━━━╋   ╋━━━╋   ┫\n",
      "┃               ┃\n",
      "┗━━━┻━━━┻━━━┻━━━┛\n",
      "\n"
     ]
    }
   ],
   "source": [
    "laby = Maze.gen_btree(4, 4)\n",
    "print(laby)"
   ]
  },
  {
   "cell_type": "code",
   "execution_count": 72,
   "id": "bd8ce681",
   "metadata": {},
   "outputs": [
    {
     "name": "stdout",
     "output_type": "stream",
     "text": [
      "┏━━━┳━━━┳━━━┳━━━┓\n",
      "┃   ┃   ┃       ┃\n",
      "┣   ╋   ╋   ╋   ┫\n",
      "┃   ┃   ┃       ┃\n",
      "┣   ╋   ╋━━━╋   ┫\n",
      "┃               ┃\n",
      "┣   ╋━━━╋━━━╋   ┫\n",
      "┃               ┃\n",
      "┗━━━┻━━━┻━━━┻━━━┛\n",
      "\n"
     ]
    }
   ],
   "source": [
    "laby = Maze.gen_sidewinder(4, 4)\n",
    "print(laby)"
   ]
  },
  {
   "cell_type": "code",
   "execution_count": 73,
   "id": "c71720ea",
   "metadata": {},
   "outputs": [
    {
     "name": "stdout",
     "output_type": "stream",
     "text": [
      "┏━━━┳━━━┳━━━┳━━━┳━━━┳━━━┳━━━┳━━━┳━━━┳━━━┳━━━┳━━━┳━━━┳━━━┳━━━┓\n",
      "┃   ┃       ┃       ┃   ┃       ┃       ┃   ┃           ┃   ┃\n",
      "┣   ╋━━━╋   ╋━━━╋   ╋   ╋━━━╋   ╋━━━╋   ╋   ╋━━━╋━━━╋   ╋   ┫\n",
      "┃   ┃   ┃   ┃   ┃           ┃       ┃   ┃                   ┃\n",
      "┣   ╋   ╋   ╋   ╋━━━╋━━━╋   ╋━━━╋   ╋   ╋━━━╋━━━╋━━━╋━━━╋   ┫\n",
      "┃       ┃   ┃           ┃       ┃       ┃       ┃           ┃\n",
      "┣━━━╋   ╋   ╋━━━╋━━━╋   ╋━━━╋   ╋━━━╋   ╋━━━╋   ╋━━━╋━━━╋   ┫\n",
      "┃           ┃   ┃       ┃   ┃           ┃   ┃       ┃       ┃\n",
      "┣━━━╋━━━╋   ╋   ╋━━━╋   ╋   ╋━━━╋━━━╋   ╋   ╋━━━╋   ╋━━━╋   ┫\n",
      "┃       ┃   ┃       ┃   ┃   ┃       ┃   ┃       ┃           ┃\n",
      "┣━━━╋   ╋   ╋━━━╋   ╋   ╋   ╋━━━╋   ╋   ╋━━━╋   ╋━━━╋━━━╋   ┫\n",
      "┃               ┃           ┃       ┃           ┃       ┃   ┃\n",
      "┣━━━╋━━━╋━━━╋   ╋━━━╋━━━╋   ╋━━━╋   ╋━━━╋━━━╋   ╋━━━╋   ╋   ┫\n",
      "┃   ┃   ┃       ┃       ┃   ┃   ┃   ┃   ┃   ┃   ┃   ┃   ┃   ┃\n",
      "┣   ╋   ╋━━━╋   ╋━━━╋   ╋   ╋   ╋   ╋   ╋   ╋   ╋   ╋   ╋   ┫\n",
      "┃   ┃       ┃           ┃   ┃   ┃       ┃           ┃       ┃\n",
      "┣   ╋━━━╋   ╋━━━╋━━━╋   ╋   ╋   ╋━━━╋   ╋━━━╋━━━╋   ╋━━━╋   ┫\n",
      "┃                   ┃               ┃       ┃       ┃   ┃   ┃\n",
      "┣━━━╋━━━╋━━━╋━━━╋   ╋━━━╋━━━╋━━━╋   ╋━━━╋   ╋━━━╋   ╋   ╋   ┫\n",
      "┃   ┃   ┃   ┃       ┃   ┃                   ┃   ┃           ┃\n",
      "┣   ╋   ╋   ╋━━━╋   ╋   ╋━━━╋━━━╋━━━╋━━━╋   ╋   ╋━━━╋━━━╋   ┫\n",
      "┃       ┃                   ┃   ┃                       ┃   ┃\n",
      "┣━━━╋   ╋━━━╋━━━╋━━━╋━━━╋   ╋   ╋━━━╋━━━╋━━━╋━━━╋━━━╋   ╋   ┫\n",
      "┃       ┃   ┃   ┃   ┃       ┃   ┃   ┃       ┃   ┃   ┃   ┃   ┃\n",
      "┣━━━╋   ╋   ╋   ╋   ╋━━━╋   ╋   ╋   ╋━━━╋   ╋   ╋   ╋   ╋   ┫\n",
      "┃           ┃               ┃   ┃   ┃   ┃   ┃       ┃   ┃   ┃\n",
      "┣━━━╋━━━╋   ╋━━━╋━━━╋━━━╋   ╋   ╋   ╋   ╋   ╋━━━╋   ╋   ╋   ┫\n",
      "┃           ┃   ┃       ┃   ┃   ┃   ┃       ┃   ┃   ┃   ┃   ┃\n",
      "┣━━━╋━━━╋   ╋   ╋━━━╋   ╋   ╋   ╋   ╋━━━╋   ╋   ╋   ╋   ╋   ┫\n",
      "┃                                                           ┃\n",
      "┗━━━┻━━━┻━━━┻━━━┻━━━┻━━━┻━━━┻━━━┻━━━┻━━━┻━━━┻━━━┻━━━┻━━━┻━━━┛\n",
      "\n"
     ]
    }
   ],
   "source": [
    "laby = Maze.gen_btree(15, 15)\n",
    "print(laby)"
   ]
  },
  {
   "cell_type": "code",
   "execution_count": 81,
   "id": "5e26c7eb",
   "metadata": {},
   "outputs": [
    {
     "name": "stdout",
     "output_type": "stream",
     "text": [
      "┏━━━┳━━━┳━━━┳━━━┳━━━┳━━━┳━━━┳━━━┳━━━┳━━━┳━━━┳━━━┳━━━┳━━━┳━━━┓\n",
      "┃   ┃       ┃       ┃   ┃                   ┃   ┃       ┃   ┃\n",
      "┣   ╋   ╋━━━╋━━━╋   ╋   ╋━━━╋━━━╋   ╋━━━╋━━━╋   ╋━━━╋   ╋   ┫\n",
      "┃   ┃           ┃   ┃   ┃   ┃               ┃       ┃   ┃   ┃\n",
      "┣   ╋━━━╋━━━╋   ╋   ╋   ╋   ╋━━━╋━━━╋━━━╋   ╋   ╋━━━╋   ╋   ┫\n",
      "┃                   ┃       ┃                   ┃           ┃\n",
      "┣━━━╋   ╋━━━╋━━━╋━━━╋   ╋━━━╋━━━╋━━━╋━━━╋━━━╋   ╋━━━╋   ╋   ┫\n",
      "┃                       ┃   ┃   ┃   ┃               ┃   ┃   ┃\n",
      "┣━━━╋━━━╋━━━╋   ╋━━━╋━━━╋   ╋   ╋   ╋━━━╋━━━╋━━━╋   ╋   ╋   ┫\n",
      "┃   ┃           ┃       ┃           ┃   ┃       ┃   ┃   ┃   ┃\n",
      "┣   ╋   ╋━━━╋━━━╋━━━╋   ╋   ╋━━━╋━━━╋   ╋   ╋━━━╋   ╋   ╋   ┫\n",
      "┃   ┃           ┃       ┃       ┃           ┃       ┃   ┃   ┃\n",
      "┣   ╋   ╋━━━╋━━━╋━━━╋   ╋━━━╋   ╋   ╋━━━╋━━━╋━━━╋   ╋   ╋   ┫\n",
      "┃   ┃                   ┃       ┃   ┃       ┃   ┃   ┃       ┃\n",
      "┣   ╋━━━╋   ╋━━━╋━━━╋━━━╋   ╋━━━╋   ╋   ╋━━━╋   ╋   ╋   ╋   ┫\n",
      "┃   ┃           ┃       ┃   ┃       ┃       ┃       ┃   ┃   ┃\n",
      "┣   ╋━━━╋   ╋━━━╋   ╋━━━╋   ╋━━━╋   ╋━━━╋   ╋   ╋━━━╋   ╋   ┫\n",
      "┃           ┃       ┃   ┃   ┃   ┃       ┃           ┃       ┃\n",
      "┣━━━╋   ╋━━━╋   ╋━━━╋   ╋   ╋   ╋━━━╋   ╋━━━╋━━━╋   ╋━━━╋   ┫\n",
      "┃       ┃   ┃       ┃   ┃   ┃           ┃           ┃       ┃\n",
      "┣━━━╋   ╋   ╋   ╋━━━╋   ╋   ╋━━━╋   ╋━━━╋━━━╋   ╋━━━╋━━━╋   ┫\n",
      "┃       ┃       ┃           ┃   ┃       ┃           ┃       ┃\n",
      "┣   ╋━━━╋━━━╋   ╋━━━╋━━━╋   ╋   ╋   ╋━━━╋   ╋━━━╋━━━╋   ╋━━━┫\n",
      "┃   ┃   ┃   ┃   ┃       ┃       ┃       ┃           ┃   ┃   ┃\n",
      "┣   ╋   ╋   ╋   ╋━━━╋   ╋   ╋━━━╋   ╋━━━╋━━━╋   ╋━━━╋   ╋   ┫\n",
      "┃   ┃       ┃                   ┃       ┃   ┃       ┃       ┃\n",
      "┣   ╋   ╋━━━╋━━━╋   ╋━━━╋━━━╋━━━╋━━━╋   ╋   ╋━━━╋   ╋━━━╋   ┫\n",
      "┃           ┃       ┃   ┃   ┃                       ┃       ┃\n",
      "┣━━━╋━━━╋   ╋   ╋━━━╋   ╋   ╋━━━╋━━━╋━━━╋━━━╋   ╋━━━╋   ╋━━━┫\n",
      "┃                                                           ┃\n",
      "┗━━━┻━━━┻━━━┻━━━┻━━━┻━━━┻━━━┻━━━┻━━━┻━━━┻━━━┻━━━┻━━━┻━━━┻━━━┛\n",
      "\n"
     ]
    }
   ],
   "source": [
    "laby = Maze.gen_sidewinder(15, 15)\n",
    "print(laby)"
   ]
  },
  {
   "cell_type": "code",
   "execution_count": 18,
   "id": "96f2e757",
   "metadata": {},
   "outputs": [
    {
     "name": "stdout",
     "output_type": "stream",
     "text": [
      "┏━━━┳━━━┳━━━┳━━━┳━━━┳━━━┳━━━┳━━━┳━━━┳━━━┳━━━┳━━━┳━━━┳━━━┳━━━┓\n",
      "┃       ┃               ┃                   ┃   ┃           ┃\n",
      "┣   ╋   ╋   ╋   ╋━━━╋   ╋━━━╋━━━╋━━━╋   ╋━━━╋   ╋   ╋━━━╋━━━┫\n",
      "┃   ┃       ┃   ┃   ┃       ┃   ┃   ┃       ┃   ┃   ┃       ┃\n",
      "┣━━━╋   ╋   ╋━━━╋   ╋   ╋   ╋   ╋   ╋   ╋━━━╋   ╋   ╋   ╋━━━┫\n",
      "┃   ┃   ┃   ┃           ┃   ┃       ┃                       ┃\n",
      "┣   ╋━━━╋━━━╋━━━╋   ╋━━━╋   ╋   ╋━━━╋   ╋   ╋━━━╋   ╋━━━╋━━━┫\n",
      "┃           ┃       ┃       ┃       ┃   ┃   ┃       ┃       ┃\n",
      "┣   ╋━━━╋   ╋━━━╋━━━╋━━━╋   ╋   ╋━━━╋   ╋   ╋   ╋   ╋   ╋   ┫\n",
      "┃   ┃           ┃   ┃   ┃               ┃   ┃   ┃       ┃   ┃\n",
      "┣━━━╋━━━╋   ╋━━━╋   ╋   ╋━━━╋   ╋━━━╋━━━╋   ╋   ╋━━━╋━━━╋━━━┫\n",
      "┃               ┃                   ┃   ┃   ┃       ┃       ┃\n",
      "┣━━━╋   ╋━━━╋   ╋━━━╋   ╋━━━╋━━━╋━━━╋   ╋━━━╋━━━╋   ╋   ╋━━━┫\n",
      "┃           ┃   ┃   ┃       ┃       ┃           ┃           ┃\n",
      "┣━━━╋━━━╋━━━╋   ╋   ╋   ╋   ╋━━━╋   ╋   ╋━━━╋━━━╋   ╋━━━╋   ┫\n",
      "┃   ┃   ┃       ┃   ┃   ┃       ┃           ┃   ┃       ┃   ┃\n",
      "┣   ╋   ╋━━━╋   ╋   ╋   ╋━━━╋   ╋   ╋━━━╋   ╋   ╋   ╋━━━╋   ┫\n",
      "┃   ┃       ┃           ┃   ┃   ┃   ┃           ┃       ┃   ┃\n",
      "┣   ╋   ╋━━━╋   ╋━━━╋━━━╋   ╋━━━╋   ╋━━━╋━━━╋   ╋   ╋   ╋━━━┫\n",
      "┃                               ┃       ┃       ┃   ┃   ┃   ┃\n",
      "┣━━━╋━━━╋   ╋   ╋   ╋━━━╋   ╋━━━╋   ╋   ╋   ╋   ╋━━━╋   ╋   ┫\n",
      "┃           ┃   ┃   ┃           ┃   ┃   ┃   ┃   ┃           ┃\n",
      "┣   ╋   ╋   ╋   ╋━━━╋   ╋━━━╋━━━╋━━━╋━━━╋━━━╋   ╋   ╋━━━╋━━━┫\n",
      "┃   ┃   ┃   ┃   ┃   ┃           ┃   ┃   ┃                   ┃\n",
      "┣━━━╋   ╋━━━╋   ╋   ╋━━━╋   ╋   ╋   ╋   ╋━━━╋━━━╋   ╋━━━╋   ┫\n",
      "┃       ┃           ┃   ┃   ┃       ┃               ┃       ┃\n",
      "┣━━━╋   ╋━━━╋   ╋━━━╋   ╋   ╋   ╋━━━╋━━━╋━━━╋   ╋   ╋━━━╋━━━┫\n",
      "┃   ┃   ┃           ┃       ┃       ┃   ┃       ┃           ┃\n",
      "┣   ╋   ╋━━━╋━━━╋   ╋   ╋   ╋   ╋   ╋   ╋━━━╋   ╋━━━╋   ╋   ┫\n",
      "┃           ┃       ┃   ┃   ┃   ┃           ┃       ┃   ┃   ┃\n",
      "┗━━━┻━━━┻━━━┻━━━┻━━━┻━━━┻━━━┻━━━┻━━━┻━━━┻━━━┻━━━┻━━━┻━━━┻━━━┛\n",
      "\n"
     ]
    }
   ],
   "source": [
    "laby = Maze.gen_fusion(15,15)\n",
    "print(laby)"
   ]
  },
  {
   "cell_type": "code",
   "execution_count": 7,
   "id": "438db653",
   "metadata": {},
   "outputs": [
    {
     "name": "stdout",
     "output_type": "stream",
     "text": [
      "[(0, 15), (2, 15), (1, 14)]\n"
     ]
    }
   ],
   "source": [
    "laby = Maze(15,15)\n",
    "print(laby.get_contiguous_cells((1,15)))"
   ]
  },
  {
   "cell_type": "code",
   "execution_count": 21,
   "id": "1fb9e6db",
   "metadata": {},
   "outputs": [
    {
     "ename": "KeyError",
     "evalue": "(15, 14)",
     "output_type": "error",
     "traceback": [
      "\u001b[0;31m---------------------------------------------------------------------------\u001b[0m",
      "\u001b[0;31mKeyError\u001b[0m                                  Traceback (most recent call last)",
      "Input \u001b[0;32mIn [21]\u001b[0m, in \u001b[0;36m<module>\u001b[0;34m\u001b[0m\n\u001b[0;32m----> 1\u001b[0m laby \u001b[38;5;241m=\u001b[39m \u001b[43mMaze\u001b[49m\u001b[38;5;241;43m.\u001b[39;49m\u001b[43mgen_exploration\u001b[49m\u001b[43m(\u001b[49m\u001b[38;5;241;43m15\u001b[39;49m\u001b[43m,\u001b[49m\u001b[38;5;241;43m15\u001b[39;49m\u001b[43m)\u001b[49m\n\u001b[1;32m      2\u001b[0m \u001b[38;5;28mprint\u001b[39m(laby)\n",
      "Input \u001b[0;32mIn [20]\u001b[0m, in \u001b[0;36mMaze.gen_exploration\u001b[0;34m(cls, h, w)\u001b[0m\n\u001b[1;32m    258\u001b[0m shuffle(ce)\n\u001b[1;32m    259\u001b[0m \u001b[38;5;28;01mfor\u001b[39;00m vois \u001b[38;5;129;01min\u001b[39;00m ce:\n\u001b[0;32m--> 260\u001b[0m     \u001b[38;5;28;01mif\u001b[39;00m \u001b[43mvisite\u001b[49m\u001b[43m[\u001b[49m\u001b[43mvois\u001b[49m\u001b[43m]\u001b[49m\u001b[38;5;241m==\u001b[39m\u001b[38;5;124m\"\u001b[39m\u001b[38;5;124mo\u001b[39m\u001b[38;5;124m\"\u001b[39m:\n\u001b[1;32m    261\u001b[0m         lab\u001b[38;5;241m.\u001b[39mremove_wall(cell,vois)\n\u001b[1;32m    262\u001b[0m         visite[vois]\u001b[38;5;241m=\u001b[39m\u001b[38;5;124m\"\u001b[39m\u001b[38;5;124mv\u001b[39m\u001b[38;5;124m\"\u001b[39m\n",
      "\u001b[0;31mKeyError\u001b[0m: (15, 14)"
     ]
    }
   ],
   "source": [
    "laby = Maze.gen_exploration(15,15)\n",
    "print(laby)"
   ]
  },
  {
   "cell_type": "code",
   "execution_count": null,
   "id": "97d8222e",
   "metadata": {},
   "outputs": [],
   "source": []
  }
 ],
 "metadata": {
  "kernelspec": {
   "display_name": "Python 3 (ipykernel)",
   "language": "python",
   "name": "python3"
  },
  "language_info": {
   "codemirror_mode": {
    "name": "ipython",
    "version": 3
   },
   "file_extension": ".py",
   "mimetype": "text/x-python",
   "name": "python",
   "nbconvert_exporter": "python",
   "pygments_lexer": "ipython3",
   "version": "3.8.10"
  }
 },
 "nbformat": 4,
 "nbformat_minor": 5
}
